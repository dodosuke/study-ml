{
 "cells": [
  {
   "cell_type": "markdown",
   "metadata": {},
   "source": [
    "## We use artificial data for the following two specifications of regression:\n",
    "\n",
    "### Linear Regression\n",
    "\n",
    "$ y(x) = a + b_1 \\cdot X_1 + b_2 \\cdot X_2 + b_3 \\cdot X_3 + \\sigma \\cdot \\varepsilon $ \n",
    "\n",
    "where $ \\varepsilon \\sim N(0, 1) $ is a Gaussian noise, and $ \\sigma $ is its volatility, \n",
    "with the following choice of parameters:\n",
    "\n",
    "$ a = 1.0 $\n",
    "\n",
    "$ b_1, b_2, b_3 = (0.5, 0.2, 0.1) $\n",
    "\n",
    "$ \\sigma = 0.1 $\n",
    "\n",
    "$ X_1, X_2, X_3 $ will be uniformally distributed in $ [-1,1] $\n",
    "\n",
    "### Non-Linear Regression\n",
    "\n",
    "$ y(x) = a + w_{00} \\cdot X_1 + w_{01} \\cdot X_2 + w_{02} \\cdot X_3 + + w_{10} \\cdot X_1^2 \n",
    "+ w_{11} \\cdot X_2^2 + w_{12} \\cdot X_3^2 +  \\sigma \\cdot \\varepsilon $ \n",
    "\n",
    "where\n",
    "\n",
    "$ w = [[1.0, 0.5, 0.2],[0.5, 0.3, 0.15]]  $\n",
    "\n",
    "and the rest of parameters is as above, with the same values of $ X_i $"
   ]
  },
  {
   "cell_type": "code",
   "execution_count": 1,
   "metadata": {},
   "outputs": [],
   "source": [
    "!pip install sklearn --quiet"
   ]
  },
  {
   "cell_type": "code",
   "execution_count": 2,
   "metadata": {},
   "outputs": [
    {
     "name": "stdout",
     "output_type": "stream",
     "text": [
      "/bin/sh: 1: matplotlib: not found\r\n"
     ]
    }
   ],
   "source": [
    "import numpy as np\n",
    "import os\n",
    "import math as m\n",
    "import pandas as pd\n",
    "import tensorflow.compat.v1 as tf\n",
    "\n",
    "tf.disable_eager_execution()\n",
    "\n",
    "import matplotlib\n",
    "import matplotlib.pyplot as plt\n",
    "!matplotlib inline\n",
    "\n",
    "import time"
   ]
  },
  {
   "cell_type": "code",
   "execution_count": 4,
   "metadata": {},
   "outputs": [],
   "source": [
    "def reset_graph(seed=42):\n",
    "    tf.reset_default_graph()\n",
    "    tf.set_random_seed(seed)\n",
    "    np.random.seed(seed)"
   ]
  },
  {
   "cell_type": "code",
   "execution_count": 5,
   "metadata": {},
   "outputs": [],
   "source": [
    "n_points = 5000\n",
    "n_features = 3\n",
    "\n",
    "bias = np.ones(n_points).reshape((-1,1))\n",
    "low = - np.ones((n_points,n_features), 'float')\n",
    "high = np.ones((n_points,n_features), 'float')\n",
    "\n",
    "X = np.random.uniform(low=low, high=high)\n",
    "\n",
    "\n",
    "noise = np.random.normal(size=(n_points, 1))\n",
    "\n",
    "weights = np.array([1.0, 0.5, 0.2, 0.1])\n",
    "noise_std = 0.1\n",
    "Y = weights[0]*bias+np.dot(X, weights[1:]).reshape((-1,1))+noise_std+ noise\n",
    "\n",
    "train_test_split = 4\n",
    "n_test = int(n_points/train_test_split)\n",
    "n_train = n_points - n_test\n",
    "\n",
    "X_train = X[:n_train,:]\n",
    "Y_train = Y[:n_train].reshape((-1,1))\n",
    "\n",
    "X_test = X[n_train:,:]\n",
    "Y_test = Y[n_train:].reshape((-1,1))"
   ]
  },
  {
   "cell_type": "code",
   "execution_count": 6,
   "metadata": {},
   "outputs": [
    {
     "data": {
      "text/plain": [
       "((3750, 3), (3750, 1), (1250, 3))"
      ]
     },
     "execution_count": 6,
     "metadata": {},
     "output_type": "execute_result"
    }
   ],
   "source": [
    "X_train.shape, Y_train.shape, X_test.shape"
   ]
  },
  {
   "cell_type": "code",
   "execution_count": 5,
   "metadata": {},
   "outputs": [
    {
     "name": "stdout",
     "output_type": "stream",
     "text": [
      "[[1.06639995]\n",
      " [0.51365092]\n",
      " [0.18902965]\n",
      " [0.13237374]]\n"
     ]
    }
   ],
   "source": [
    "# Linear Regression with Numpy\n",
    "\n",
    "X = np.hstack((np.ones(n_train).reshape((-1,1)), X_train))\n",
    "theta_numpy = np.linalg.inv(X.T.dot(X)).dot(X.T).dot(Y_train)\n",
    "\n",
    "print(theta_numpy)"
   ]
  },
  {
   "cell_type": "code",
   "execution_count": 11,
   "metadata": {},
   "outputs": [
    {
     "name": "stdout",
     "output_type": "stream",
     "text": [
      "[[1.06639995]\n",
      " [0.51365092]\n",
      " [0.18902965]\n",
      " [0.13237374]]\n"
     ]
    }
   ],
   "source": [
    "# with SKlearn\n",
    "\n",
    "from sklearn.linear_model import LinearRegression\n",
    "lin_reg = LinearRegression()\n",
    "lin_reg.fit(X_train, Y_train)\n",
    "\n",
    "print(np.r_[lin_reg.intercept_.reshape(-1,1), lin_reg.coef_.T])"
   ]
  },
  {
   "cell_type": "code",
   "execution_count": 60,
   "metadata": {},
   "outputs": [
    {
     "data": {
      "text/plain": [
       "array([[ 8.1490725e-10,  2.5611371e-09, -2.9103830e-09],\n",
       "       [ 1.0000001e+00,  1.0244548e-08,  9.8953024e-09],\n",
       "       [ 4.0745363e-09,  9.9999994e-01, -2.0954758e-09],\n",
       "       [ 1.0462827e-08, -4.4237822e-09,  1.0000000e+00]], dtype=float32)"
      ]
     },
     "execution_count": 60,
     "metadata": {},
     "output_type": "execute_result"
    }
   ],
   "source": [
    "# with TF\n",
    "\n",
    "X_np = np.hstack((np.ones(n_train).reshape((-1,1)), X_train))\n",
    "\n",
    "X = tf.constant(X_np, dtype=tf.float32, name=\"X\")\n",
    "y = tf.constant(Y_train, dtype=tf.float32, name=\"Y\")\n",
    "XT = tf.transpose(X)\n",
    "theta = tf.matmul(tf.matmul(tf.matrix_inverse(tf.matmul(XT, X)),XT),y)\n",
    "\n",
    "with tf.Session() as sess:\n",
    "    theta_value = theta.eval()\n",
    "    \n",
    "theta_value"
   ]
  },
  {
   "cell_type": "code",
   "execution_count": 10,
   "metadata": {},
   "outputs": [],
   "source": [
    "# class\n",
    "\n",
    "class Model:\n",
    "    def __init__(self, n_features, learning_rate=0.05, L=0):\n",
    "        self.X = tf.placeholder(tf.float32, [None, n_features], name=\"X\")\n",
    "        self.Y = tf.placeholder(tf.float32, [None, 1], name=\"Y\")\n",
    "        \n",
    "        self.theta_in = tf.placeholder(tf.float32, [n_features+1, None])\n",
    "        \n",
    "        data_plus_bias = tf.concat([tf.ones([tf.shape(self.X)[0], 1]), self.X], axis=1)\n",
    "        \n",
    "        XT = tf.transpose(data_plus_bias)\n",
    "        \n",
    "        # normal equation for LR\n",
    "        self.theta = tf.matmul(tf.matmul(tf.matrix_inverse(tf.matmul(XT, data_plus_bias)), XT), self.Y)\n",
    "        self.lr_mse = tf.reduce_mean(tf.square(tf.matmul(data_plus_bias, self.theta_in)-self.Y))\n",
    "        \n",
    "        # estimate model using the maximum likelihood estimation\n",
    "        self.weights = tf.Variable(tf.random_normal([n_features+2, 1]))\n",
    "        \n",
    "        # prediction from the model\n",
    "        self.output = tf.matmul(data_plus_bias, self.weights[:-1, :])\n",
    "        gauss = tf.distributions.Normal(loc=0.0, scale=1.0)\n",
    "        \n",
    "        # standard deviation of the gaussian noise is modeled as a square of the last model weight\n",
    "        sigma = 0.0001 + tf.square(self.weights[-1])\n",
    "        \n",
    "        pi = tf.constant(m.pi)\n",
    "        log_LL = tf.log(0.00001 + (1/( tf.sqrt(2*pi)*sigma)) * gauss.prob((self.Y - self.output) / sigma ))  \n",
    "        self.loss = -tf.reduce_mean(log_LL)\n",
    "        \n",
    "        # TF node defining an Op for on training set        \n",
    "        self.train_step = (tf.train.AdamOptimizer(learning_rate).minimize(self.loss), self.loss)\n",
    "        \n",
    "    def generate_data(n_points = 10000, n_features = 3, weights = np.array([1.0, 0.5, 0.2, 0.1]), noise_std=0.1):\n",
    "        bias = np.ones(n_points).reshape((-1,1))\n",
    "        low = - np.ones((n_points, n_features), 'float')\n",
    "        heigh=  np.ones((n_points, n_features), 'float')\n",
    "        \n",
    "        X = np.random.uniform(low=low, high=high)\n",
    "        noise = np.random.normal(size=(n_points, 1))\n",
    "        Y = weights[0] + bias + np.dot(X, weights[1:]).reshape((-1, 1)) + noise_std + noise\n",
    "        \n",
    "        return (X, Y)"
   ]
  },
  {
   "cell_type": "code",
   "execution_count": 11,
   "metadata": {},
   "outputs": [],
   "source": [
    "def main():\n",
    "    n_points = 5000\n",
    "    n_features = 3\n",
    "    learning_rate = 0.05\n",
    "    \n",
    "    weights = np.array([1.0, 0.5, 0.2, 0.1])\n",
    "    noise_std = 0.1\n",
    "    \n",
    "    (X, Y) = Model.generate_data(n_points=n_points, n_features=n_features, weights = weights, noise_std=noise_std)\n",
    "    \n",
    "    n_test = int(n_points/4)\n",
    "    n_train = n_points - n_test\n",
    "\n",
    "    X_train = X[:n_train,:]\n",
    "    Y_train = Y[:n_train].reshape((-1,1))\n",
    "\n",
    "    X_test = X[n_train:,:]\n",
    "    Y_test = Y[n_train:].reshape((-1,1))\n",
    "    \n",
    "    print(X_train.shape, Y_train.shape, X_test.shape, Y_test.shape)\n",
    "    \n",
    "    model = Model(n_features=n_features, learning_rate=learning_rate)\n",
    "    \n",
    "    with tf.Session() as sess:\n",
    "        sess.run(tf.global_variables_initializer())\n",
    "        theta_value = sess.run(model.theta, feed_dict={\n",
    "            model.X: X_train,\n",
    "            model.Y: Y_train\n",
    "        })\n",
    "        \n",
    "        lr_mse_train = sess.run(model.lr_mse, feed_dict={\n",
    "            model.X: X_train,\n",
    "            model.Y: Y_train,\n",
    "            model.theta_in: theta_value\n",
    "        })\n",
    "        \n",
    "        lr_mse_test = sess.run(model.lr_mse, feed_dict={\n",
    "            model.X: X_test,\n",
    "            model.Y: Y_test,\n",
    "            model.theta_in: theta_value\n",
    "        })\n",
    "        \n",
    "        print(\"=== Linear Regression with the Normal Equation ====\")\n",
    "        print(theta_value)\n",
    "        print(\"Linear regression train error: \", lr_mse_train)\n",
    "        print(\"Linear regression test error: \", lr_mse_test)\n",
    "        \n",
    "        for i in range(0, 1000):\n",
    "            (_, loss), weights = sess.run((model.train_step, model.weights), feed_dict = {\n",
    "                model.X: X_train,\n",
    "                model.Y: Y_train\n",
    "            })\n",
    "            \n",
    "        Y_test_predicted = sess.run(model.output, feed_dict = {\n",
    "            model.X: X_test\n",
    "        })\n",
    "        \n",
    "        std_model = weights[-1]**2\n",
    "        \n",
    "        print(\"=== Linear Regression with Maximum Likelihood Estimation ===\")\n",
    "        print(\"Negative log-likelihood: \", loss)\n",
    "        print(\"MLE fitted parameters: \\n\", weights[0:-1])\n",
    "        print(\"Fitted std of noise: \", std_model)\n",
    "        \n",
    "        fig = plt.figure()\n",
    "        ax = fig.add_subplot(111, projection=\"3d\")\n",
    "        ax.scatter(X_test[:, 1], X_test[:,2], Y_test, s = 1, c=\"#000000\")\n",
    "        ax.scatter(X_test[:, 1], X_test[:,2], Y_test_predicted, s = 1, c=\"#FF0000\")\n",
    "        plt.show()\n",
    "        \n",
    "        sess.close()"
   ]
  },
  {
   "cell_type": "code",
   "execution_count": 12,
   "metadata": {},
   "outputs": [
    {
     "name": "stdout",
     "output_type": "stream",
     "text": [
      "(3750, 3) (3750, 1) (1250, 3) (1250, 1)\n",
      "=== Linear Regression with the Normal Equation ====\n",
      "[[2.1186423 ]\n",
      " [0.4807228 ]\n",
      " [0.18679689]\n",
      " [0.09666888]]\n",
      "Linear regression train error:  1.0013599\n",
      "Linear regression test error:  0.8972297\n",
      "=== Linear Regression with Maximum Likelihood Estimation ===\n",
      "Negative log-likelihood:  2.338329\n",
      "MLE fitted parameters: \n",
      " [[2.1186135 ]\n",
      " [0.4809364 ]\n",
      " [0.18699254]\n",
      " [0.09658721]]\n",
      "Fitted std of noise:  [0.999972]\n"
     ]
    },
    {
     "data": {
      "image/png": "[encoded data removed]",
      "text/plain": [
       "<Figure size 432x288 with 1 Axes>"
      ]
     },
     "metadata": {
      "needs_background": "light"
     },
     "output_type": "display_data"
    }
   ],
   "source": [
    "if __name__ == \"__main__\":\n",
    "    main()"
   ]
  },
  {
   "cell_type": "code",
   "execution_count": null,
   "metadata": {},
   "outputs": [],
   "source": []
  }
 ],
 "metadata": {
  "kernelspec": {
   "display_name": "Python 3",
   "language": "python",
   "name": "python3"
  },
  "language_info": {
   "codemirror_mode": {
    "name": "ipython",
    "version": 3
   },
   "file_extension": ".py",
   "mimetype": "text/x-python",
   "name": "python",
   "nbconvert_exporter": "python",
   "pygments_lexer": "ipython3",
   "version": "3.6.9"
  }
 },
 "nbformat": 4,
 "nbformat_minor": 4
}
